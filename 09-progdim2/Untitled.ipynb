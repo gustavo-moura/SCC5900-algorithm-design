{
 "cells": [
  {
   "cell_type": "code",
   "execution_count": 20,
   "metadata": {
    "code_folding": [
     43
    ]
   },
   "outputs": [
    {
     "name": "stdout",
     "output_type": "stream",
     "text": [
      "72\n",
      "514\n"
     ]
    }
   ],
   "source": [
    "with open('1.in', 'r') as file:\n",
    "    content = file.readlines()\n",
    "    \n",
    "mx = 1005   \n",
    "\n",
    "pointer = 0\n",
    "\n",
    "n_cases = int(content[pointer]) #T\n",
    "pointer += 1\n",
    "\n",
    "for t in range(n_cases):\n",
    "\n",
    "    n_objects = int(content[pointer]) #N\n",
    "\n",
    "    pointer += 1\n",
    "\n",
    "    price = []\n",
    "    weight = []\n",
    "\n",
    "    for i in range(pointer, pointer + n_objects):\n",
    "        obj = [int(o) for o in content[i].split(' ')]\n",
    "        price.append(obj[0])\n",
    "        weight.append(obj[1])\n",
    "\n",
    "    pointer += n_objects\n",
    "\n",
    "    n_pep = int(content[pointer])\n",
    "\n",
    "    pointer += 1\n",
    "\n",
    "    people = []\n",
    "    for i in range(pointer, pointer + n_pep):\n",
    "        people.append(int(content[i]))\n",
    "        \n",
    "    pointer += n_pep\n",
    "\n",
    "\n",
    "    # ---\n",
    "\n",
    "\n",
    "\n",
    "    def shack(i, w):\n",
    "        if i == n_objects:\n",
    "            return 0\n",
    "\n",
    "        if dp[i][w] != -1:\n",
    "            return dp[i][w]\n",
    "\n",
    "        res1 = 0 \n",
    "        res2 = 0\n",
    "\n",
    "        if (w + weight[i]) <= CAP:\n",
    "            res1 = price[i] + shack(i + 1, w + weight[i])\n",
    "        else:\n",
    "            res1 = 0\n",
    "\n",
    "        res2 = shack(i + 1, w)\n",
    "\n",
    "        dp[i][w] = max(res1, res2)\n",
    "\n",
    "        return dp[i][w]\n",
    "\n",
    "    ans = 0\n",
    "    pep = n_pep\n",
    "\n",
    "    g = 0\n",
    "    while pep > 0:\n",
    "        \n",
    "        dp = [[-1 for _ in range(mx)] for _ in range(mx)]\n",
    "\n",
    "        CAP = people[g]\n",
    "        ans += shack(0, 0)\n",
    "        pep -= 1\n",
    "        g += 1\n",
    "\n",
    "    print(ans)\n",
    "\n",
    "\n",
    "\n"
   ]
  },
  {
   "cell_type": "code",
   "execution_count": 16,
   "metadata": {},
   "outputs": [
    {
     "name": "stdout",
     "output_type": "stream",
     "text": [
      "72\n",
      "514\n",
      "\n"
     ]
    }
   ],
   "source": [
    "with open('1.out', 'r') as file:\n",
    "    print(file.read())"
   ]
  },
  {
   "cell_type": "code",
   "execution_count": null,
   "metadata": {},
   "outputs": [],
   "source": []
  },
  {
   "cell_type": "code",
   "execution_count": null,
   "metadata": {},
   "outputs": [],
   "source": []
  }
 ],
 "metadata": {
  "kernelspec": {
   "display_name": "Python 3",
   "language": "python",
   "name": "python3"
  },
  "language_info": {
   "codemirror_mode": {
    "name": "ipython",
    "version": 3
   },
   "file_extension": ".py",
   "mimetype": "text/x-python",
   "name": "python",
   "nbconvert_exporter": "python",
   "pygments_lexer": "ipython3",
   "version": "3.7.4"
  },
  "toc": {
   "base_numbering": 1,
   "nav_menu": {},
   "number_sections": true,
   "sideBar": true,
   "skip_h1_title": false,
   "title_cell": "Table of Contents",
   "title_sidebar": "Contents",
   "toc_cell": false,
   "toc_position": {},
   "toc_section_display": true,
   "toc_window_display": false
  }
 },
 "nbformat": 4,
 "nbformat_minor": 2
}
