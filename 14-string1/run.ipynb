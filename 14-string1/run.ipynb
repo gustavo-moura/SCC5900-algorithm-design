{
 "cells": [
  {
   "cell_type": "code",
   "execution_count": 61,
   "metadata": {
    "code_folding": []
   },
   "outputs": [
    {
     "name": "stdout",
     "output_type": "stream",
     "text": [
      "O padrao foi encontrado na posicao 10\n"
     ]
    }
   ],
   "source": [
    "#import sys\n",
    "#data = sys.stdin.readlines()\n",
    "#content = [line.rstrip() for line in data]\n",
    "\n",
    "filename = '3'\n",
    "with open(f'{filename}.in', 'r') as file:\n",
    "    content = file.readlines()\n",
    "    \n",
    "i = 0\n",
    "while i < len(content)-1:\n",
    "    txt = content[i].rstrip(\"\\n\")\n",
    "    \n",
    "    i += 1\n",
    "    pat = content[i].rstrip(\"\\n\")\n",
    "        \n",
    "    i += 1\n",
    "    \n",
    "    l = len(pat)\n",
    "    for a in range(len(txt)):\n",
    "        \n",
    "        b = a+l\n",
    "\n",
    "        if txt[a:b] == pat:\n",
    "            print(f'O padrao foi encontrado na posicao {a}')\n",
    "            \n",
    "        if b == len(txt):\n",
    "            break\n",
    "            "
   ]
  },
  {
   "cell_type": "code",
   "execution_count": 45,
   "metadata": {},
   "outputs": [
    {
     "name": "stdout",
     "output_type": "stream",
     "text": [
      "AAAAABAAABA\n",
      "AAAA\n",
      "\n"
     ]
    }
   ],
   "source": [
    "with open(f'{filename}.in', 'r') as file:\n",
    "    out_content = file.read()\n",
    "    print(out_content)"
   ]
  },
  {
   "cell_type": "code",
   "execution_count": 6,
   "metadata": {},
   "outputs": [],
   "source": [
    "mistakes = []\n",
    "\n",
    "for a, b in zip(res, out_content):\n",
    "    if a==b:\n",
    "        print('.', end)\n",
    "    else:\n",
    "        mistakes.append((a,b))\n",
    "        print(f'F')\n",
    "    \n",
    "for m in mistakes:\n",
    "    print(m)"
   ]
  },
  {
   "cell_type": "code",
   "execution_count": null,
   "metadata": {},
   "outputs": [],
   "source": []
  }
 ],
 "metadata": {
  "kernelspec": {
   "display_name": "Python 3",
   "language": "python",
   "name": "python3"
  },
  "language_info": {
   "codemirror_mode": {
    "name": "ipython",
    "version": 3
   },
   "file_extension": ".py",
   "mimetype": "text/x-python",
   "name": "python",
   "nbconvert_exporter": "python",
   "pygments_lexer": "ipython3",
   "version": "3.7.4"
  },
  "toc": {
   "base_numbering": 1,
   "nav_menu": {},
   "number_sections": true,
   "sideBar": true,
   "skip_h1_title": false,
   "title_cell": "Table of Contents",
   "title_sidebar": "Contents",
   "toc_cell": false,
   "toc_position": {},
   "toc_section_display": true,
   "toc_window_display": false
  }
 },
 "nbformat": 4,
 "nbformat_minor": 2
}
