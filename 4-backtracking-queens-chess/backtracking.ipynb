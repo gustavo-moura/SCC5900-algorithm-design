{
 "cells": [
  {
   "cell_type": "markdown",
   "id": "6c6d7843",
   "metadata": {},
   "source": [
    "## Board Representation"
   ]
  },
  {
   "attachments": {
    "image.png": {
     "image/png": "[encoded data removed]"
    }
   },
   "cell_type": "markdown",
   "id": "6ea68df9",
   "metadata": {},
   "source": [
    "![image.png](attachment:image.png)"
   ]
  },
  {
   "attachments": {
    "image.png": {
     "image/png": "[encoded data removed]"
    }
   },
   "cell_type": "markdown",
   "id": "cc96b035",
   "metadata": {},
   "source": [
    "![image.png](attachment:image.png)"
   ]
  },
  {
   "attachments": {
    "image.png": {
     "image/png": "[encoded data removed]"
    }
   },
   "cell_type": "markdown",
   "id": "92871258",
   "metadata": {},
   "source": [
    "![image.png](attachment:image.png)"
   ]
  },
  {
   "attachments": {
    "image.png": {
     "image/png": "[encoded data removed]"
    }
   },
   "cell_type": "markdown",
   "id": "9fc71ead",
   "metadata": {},
   "source": [
    "![image.png](attachment:image.png)"
   ]
  },
  {
   "cell_type": "markdown",
   "id": "f2792651",
   "metadata": {},
   "source": [
    "## Algorithm"
   ]
  },
  {
   "cell_type": "code",
   "execution_count": 2,
   "id": "bc14d4a6",
   "metadata": {},
   "outputs": [],
   "source": [
    "def printBoard(board):\n",
    "    for l in range(8):\n",
    "        for c in range(8):\n",
    "            print(f\"{board[l][c]:2}\", end=\" \")\n",
    "        print('')"
   ]
  },
  {
   "cell_type": "code",
   "execution_count": 3,
   "id": "8f90c641",
   "metadata": {},
   "outputs": [],
   "source": [
    "with open('1.in', 'r') as file:\n",
    "    content = file.readlines()\n",
    "    #print(content)\n",
    "\n",
    "n_test_cases = int(content[0])\n",
    "\n",
    "boards = []\n",
    "for n in range(0, n_test_cases):\n",
    "    board = []\n",
    "    for l in range(1,9):\n",
    "        line = [int(c) for c in content[n*8+l].replace('\\n', '').split()]\n",
    "        board.append(line)\n",
    "        \n",
    "    boards.append(board)"
   ]
  },
  {
   "cell_type": "code",
   "execution_count": 17,
   "id": "a223d865",
   "metadata": {},
   "outputs": [],
   "source": [
    "def zeroes(l):\n",
    "    return [False for _ in range(l)]\n",
    "\n",
    "def condition(lin, col, params):\n",
    "    if (\n",
    "        not params['lines'][lin]\n",
    "        and not params['right_diagonal'][lin - col + 7] \n",
    "        and not params['left_diagonal'][lin + col]\n",
    "    ):\n",
    "        return True\n",
    "    return False\n",
    "        \n",
    "def set_control(lin, col, params, boolean):\n",
    "    params['lines'][lin] = boolean\n",
    "    params['right_diagonal'][lin - col + 7] = boolean\n",
    "    params['left_diagonal'][lin + col ] = boolean\n",
    "    \n",
    "def backtracking(col, summ, params, max_scores):\n",
    "    if col == 8:\n",
    "        max_scores.append(summ)\n",
    "        return True\n",
    "\n",
    "    for lin in range(8):\n",
    "        if condition(lin, col, params):\n",
    "            set_control(lin, col, params, True)\n",
    "\n",
    "            backtracking(col + 1, summ + params['board'][lin][col], params, max_scores)\n",
    "\n",
    "            set_control(lin, col, params, False)\n",
    "            \n",
    "    return False"
   ]
  },
  {
   "cell_type": "code",
   "execution_count": 18,
   "id": "07583b31",
   "metadata": {},
   "outputs": [],
   "source": [
    "def solveQueens(board):\n",
    "    max_scores = []\n",
    "    \n",
    "    # Control lists, marks if a queen blocks certain line or diagonal\n",
    "    params = {\n",
    "        'lines': zeroes(8), # lines\n",
    "        'right_diagonal': zeroes(15),# diagonals left-up to right-down\n",
    "        'left_diagonal': zeroes(15),# diagonals right-up to left-down\n",
    "        'board': board,\n",
    "#         'board': [[False for _ in range(8)] for _ in range(8)],\n",
    "    }\n",
    "    \n",
    "    backtracking(0, 0, params, max_scores)\n",
    "\n",
    "    print(max(max_scores))"
   ]
  },
  {
   "cell_type": "code",
   "execution_count": 26,
   "id": "30c5552f",
   "metadata": {},
   "outputs": [
    {
     "name": "stdout",
     "output_type": "stream",
     "text": [
      "56 45 53 62 12 65 75 78 \n",
      "61 37 70 11 26  9 43 29 \n",
      "83 75 30 78 61 24 39 42 \n",
      " 1 81 32 59 87 98 97 89 \n",
      " 3 70 44 67 54 59 40 83 \n",
      "65 10 81 74 81 19 94 53 \n",
      "55 60 13 37 84  9 90 24 \n",
      "71 98 90 96 43  9 53 60 \n"
     ]
    }
   ],
   "source": [
    "printBoard(boards[4])"
   ]
  },
  {
   "cell_type": "code",
   "execution_count": 24,
   "id": "46558a57",
   "metadata": {
    "scrolled": false
   },
   "outputs": [
    {
     "name": "stdout",
     "output_type": "stream",
     "text": [
      "666\n"
     ]
    }
   ],
   "source": [
    "solveQueens(boards[4])"
   ]
  },
  {
   "cell_type": "code",
   "execution_count": null,
   "id": "6242f5ef",
   "metadata": {},
   "outputs": [],
   "source": []
  }
 ],
 "metadata": {
  "kernelspec": {
   "display_name": "Python 3",
   "language": "python",
   "name": "python3"
  },
  "language_info": {
   "codemirror_mode": {
    "name": "ipython",
    "version": 3
   },
   "file_extension": ".py",
   "mimetype": "text/x-python",
   "name": "python",
   "nbconvert_exporter": "python",
   "pygments_lexer": "ipython3",
   "version": "3.9.2"
  }
 },
 "nbformat": 4,
 "nbformat_minor": 5
}
