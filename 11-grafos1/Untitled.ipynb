{
 "cells": [
  {
   "cell_type": "code",
   "execution_count": 22,
   "metadata": {},
   "outputs": [
    {
     "name": "stdout",
     "output_type": "stream",
     "text": [
      "NOT BICOLORABLE.\n",
      "BICOLORABLE.\n",
      "BICOLORABLE.\n"
     ]
    }
   ],
   "source": [
    "#import sys\n",
    "#data = sys.stdin.readlines()\n",
    "#content = [line.rstrip() for line in data]\n",
    "\n",
    "from collections import deque\n",
    "\n",
    "with open('2.in', 'r') as file:\n",
    "    content = file.readlines()\n",
    "\n",
    "    \n",
    "res = []\n",
    "p = 0    \n",
    "\n",
    "while True:\n",
    "    n = int(content[p])\n",
    "    # print(n)\n",
    "    \n",
    "    if n == 0:\n",
    "        break\n",
    "    \n",
    "    p += 1\n",
    "    m = int(content[p])\n",
    "    # print(m)\n",
    "    \n",
    "    graph = [[0 for _ in range(n)] for _ in range(n)]\n",
    "    \n",
    "    color = [-1] * n\n",
    "    \n",
    "    for i in range(m):\n",
    "        p += 1\n",
    "        a,b = map(int, content[p].split())\n",
    "        graph[a][b] = 1\n",
    "        graph[b][a] = 1\n",
    "        #print(a,b)\n",
    "        \n",
    "    p += 1\n",
    "        \n",
    "    q = deque([0])\n",
    "    color[0] = 0\n",
    "    flag = True\n",
    "    \n",
    "    while q:\n",
    "        u = q.popleft()\n",
    "        for v in range(n):\n",
    "            if not graph[u][v]:\n",
    "                continue\n",
    "            \n",
    "            if color[v] == -1:\n",
    "                color[v] = color[u] + 1\n",
    "                q.append(v)\n",
    "                \n",
    "            elif color[u] == color[v]:\n",
    "                flag = False\n",
    "                break\n",
    "        \n",
    "        if not flag:\n",
    "            break\n",
    "            \n",
    "    if flag:\n",
    "        print('BICOLORABLE.')\n",
    "        res.append('BICOLORABLE.\\n')\n",
    "    else:\n",
    "        print('NOT BICOLORABLE.')\n",
    "        res.append('NOT BICOLORABLE.\\n')"
   ]
  },
  {
   "cell_type": "code",
   "execution_count": 23,
   "metadata": {},
   "outputs": [],
   "source": [
    "with open('2.out', 'r') as file:\n",
    "    out_content = file.readlines()"
   ]
  },
  {
   "cell_type": "code",
   "execution_count": 24,
   "metadata": {},
   "outputs": [
    {
     "name": "stdout",
     "output_type": "stream",
     "text": [
      ".\n",
      ".\n",
      ".\n"
     ]
    }
   ],
   "source": [
    "for a, b in zip(res, out_content):\n",
    "    if a==b:\n",
    "        print('.')\n",
    "    else:\n",
    "        print(f'{a}, {b}')"
   ]
  },
  {
   "cell_type": "code",
   "execution_count": null,
   "metadata": {},
   "outputs": [],
   "source": []
  }
 ],
 "metadata": {
  "kernelspec": {
   "display_name": "Python 3",
   "language": "python",
   "name": "python3"
  },
  "language_info": {
   "codemirror_mode": {
    "name": "ipython",
    "version": 3
   },
   "file_extension": ".py",
   "mimetype": "text/x-python",
   "name": "python",
   "nbconvert_exporter": "python",
   "pygments_lexer": "ipython3",
   "version": "3.7.4"
  },
  "toc": {
   "base_numbering": 1,
   "nav_menu": {},
   "number_sections": true,
   "sideBar": true,
   "skip_h1_title": false,
   "title_cell": "Table of Contents",
   "title_sidebar": "Contents",
   "toc_cell": false,
   "toc_position": {},
   "toc_section_display": true,
   "toc_window_display": false
  }
 },
 "nbformat": 4,
 "nbformat_minor": 2
}
