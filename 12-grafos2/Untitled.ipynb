{
 "cells": [
  {
   "cell_type": "code",
   "execution_count": 13,
   "metadata": {
    "code_folding": []
   },
   "outputs": [
    {
     "data": {
      "text/plain": [
       "[(1.0, 1.0), (1.0, 2.0), (10.0, 10.0), (10.0, 11.0)]"
      ]
     },
     "execution_count": 13,
     "metadata": {},
     "output_type": "execute_result"
    }
   ],
   "source": [
    "#import sys\n",
    "#data = sys.stdin.readlines()\n",
    "#content = [line.rstrip() for line in data]\n",
    "\n",
    "from collections import deque\n",
    "\n",
    "filename = '1'\n",
    "\n",
    "with open(f'{filename}.in', 'r') as file:\n",
    "    content = file.readlines()\n",
    "\n",
    "class Point():\n",
    "    def __init__(self, x, y):\n",
    "        self.x = x\n",
    "        self.y = y\n",
    "    \n",
    "MAX = 105\n",
    "    \n",
    "pointer = 0\n",
    "n_cases = int(content[pointer])\n",
    "\n",
    "for i in range(n_cases):\n",
    "    pointer += 2 #jump blank line\n",
    "    n_dots = int(content[pointer])\n",
    "    \n",
    "    dots = []\n",
    "    \n",
    "    for _ in range(n_dots):\n",
    "        pointer += 1\n",
    "    \n",
    "        coord = content[pointer].split(' ')\n",
    "        x = float(coord[0])\n",
    "        y = float(coord[1])\n",
    "        \n",
    "        dots.append((x, y))\n",
    "        \n",
    "        \n",
    "    # Algorithm\n",
    "    w = [[None for _ in range(MAX)] for _ in range(MAX)]\n",
    "    d = [None for _ in range(MAX)]\n",
    "    v = [None for _ in range(MAX)]\n",
    "    \n",
    "    v[1] = 1\n",
    "    \n",
    "    for i in range(1,n):\n",
    "        x = 0\n",
    "        \n",
    "        \n",
    "dots"
   ]
  },
  {
   "cell_type": "code",
   "execution_count": 41,
   "metadata": {},
   "outputs": [
    {
     "name": "stdout",
     "output_type": "stream",
     "text": [
      "3\n",
      "1 Delete 1\n",
      "2 Delete 3\n",
      "3 Replace 3,d\n",
      "\n",
      "4\n",
      "1 Insert 1,a\n",
      "2 Insert 2,a\n",
      "3 Insert 3,b\n",
      "4 Insert 4,a\n",
      "\n"
     ]
    }
   ],
   "source": [
    "with open(f'{filename}.out', 'r') as file:\n",
    "    out_content = file.read()\n",
    "    print(out_content)"
   ]
  },
  {
   "cell_type": "code",
   "execution_count": 6,
   "metadata": {},
   "outputs": [],
   "source": [
    "mistakes = []\n",
    "\n",
    "for a, b in zip(res, out_content):\n",
    "    if a==b:\n",
    "        print('.', end)\n",
    "    else:\n",
    "        mistakes.append((a,b))\n",
    "        print(f'F')\n",
    "    \n",
    "for m in mistakes:\n",
    "    print(m)"
   ]
  },
  {
   "cell_type": "code",
   "execution_count": null,
   "metadata": {},
   "outputs": [],
   "source": []
  }
 ],
 "metadata": {
  "kernelspec": {
   "display_name": "Python 3",
   "language": "python",
   "name": "python3"
  },
  "language_info": {
   "codemirror_mode": {
    "name": "ipython",
    "version": 3
   },
   "file_extension": ".py",
   "mimetype": "text/x-python",
   "name": "python",
   "nbconvert_exporter": "python",
   "pygments_lexer": "ipython3",
   "version": "3.7.4"
  },
  "toc": {
   "base_numbering": 1,
   "nav_menu": {},
   "number_sections": true,
   "sideBar": true,
   "skip_h1_title": false,
   "title_cell": "Table of Contents",
   "title_sidebar": "Contents",
   "toc_cell": false,
   "toc_position": {},
   "toc_section_display": true,
   "toc_window_display": false
  }
 },
 "nbformat": 4,
 "nbformat_minor": 2
}
