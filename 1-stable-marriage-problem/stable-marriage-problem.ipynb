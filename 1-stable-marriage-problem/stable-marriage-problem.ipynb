{
 "cells": [
  {
   "cell_type": "markdown",
   "id": "d9398e8a",
   "metadata": {},
   "source": [
    "# Stable Marriage Problem\n",
    "## SCC5900 - Algorithm Design\n",
    "\n",
    "### Lecture 1\n",
    "\n",
    "#### v1.0"
   ]
  },
  {
   "cell_type": "markdown",
   "id": "01e83335",
   "metadata": {},
   "source": [
    "## Read File\n"
   ]
  },
  {
   "cell_type": "code",
   "execution_count": 1,
   "id": "6cd0185e",
   "metadata": {},
   "outputs": [],
   "source": [
    "with open('1.in', 'r') as file:\n",
    "    content = file.readlines()\n",
    "    # print(content)\n",
    "\n",
    "n_test_cases = int(content[0])\n",
    "\n",
    "test_cases = []\n",
    "pointer = 1\n",
    "for i in range(0, n_test_cases):\n",
    "    n_marriages = int(content[pointer])\n",
    "    \n",
    "    pointer += 1\n",
    "    \n",
    "    women = []\n",
    "    for line in range(pointer, pointer + n_marriages):\n",
    "        woman_data = content[line].split(' ')\n",
    "        \n",
    "        preferences = [int(woman_data[wp])-1 for wp in range(1, n_marriages+1)]\n",
    "    \n",
    "        women.append(preferences)\n",
    "        \n",
    "    pointer += n_marriages\n",
    "    \n",
    "    men = []        \n",
    "    for line in range(pointer, pointer + n_marriages):\n",
    "        man_data = content[line].split(' ')\n",
    "        \n",
    "        preferences = [int(man_data[wp])-1 for wp in range(1, n_marriages+1)]\n",
    "    \n",
    "        men.append(preferences)\n",
    "        \n",
    "\n",
    "    pointer += n_marriages\n",
    "    \n",
    "    case = {\n",
    "        'n': i,\n",
    "        'n_marriages': n_marriages,\n",
    "        'women': women,\n",
    "        'men': men,\n",
    "    }\n",
    "    \n",
    "    test_cases.append(case)"
   ]
  },
  {
   "cell_type": "code",
   "execution_count": 2,
   "id": "62f4bda1",
   "metadata": {},
   "outputs": [
    {
     "data": {
      "text/plain": [
       "[{'n': 0,\n",
       "  'n_marriages': 4,\n",
       "  'women': [[3, 2, 0, 1], [1, 0, 2, 3], [0, 2, 3, 1], [3, 2, 0, 1]],\n",
       "  'men': [[2, 1, 3, 0], [1, 2, 0, 3], [2, 0, 1, 3], [2, 1, 3, 0]]},\n",
       " {'n': 1,\n",
       "  'n_marriages': 7,\n",
       "  'women': [[2, 3, 1, 0, 5, 6, 4],\n",
       "   [5, 3, 1, 2, 4, 0, 6],\n",
       "   [5, 2, 4, 6, 1, 3, 0],\n",
       "   [0, 5, 2, 1, 3, 6, 4],\n",
       "   [0, 5, 4, 2, 3, 6, 1],\n",
       "   [0, 6, 2, 3, 4, 5, 1],\n",
       "   [4, 5, 1, 3, 2, 6, 0]],\n",
       "  'men': [[3, 4, 2, 6, 1, 5, 0],\n",
       "   [4, 5, 3, 6, 2, 1, 0],\n",
       "   [0, 5, 4, 3, 2, 6, 1],\n",
       "   [2, 4, 5, 6, 1, 3, 0],\n",
       "   [0, 6, 5, 3, 2, 4, 1],\n",
       "   [5, 2, 6, 4, 1, 3, 0],\n",
       "   [0, 6, 3, 1, 5, 4, 2]]}]"
      ]
     },
     "execution_count": 2,
     "metadata": {},
     "output_type": "execute_result"
    }
   ],
   "source": [
    "test_cases"
   ]
  },
  {
   "cell_type": "markdown",
   "id": "fcf8f032",
   "metadata": {},
   "source": [
    "## Stable Marriage Algorithm"
   ]
  },
  {
   "cell_type": "code",
   "execution_count": 3,
   "id": "a4b030e5",
   "metadata": {},
   "outputs": [],
   "source": [
    "def zeros(n):\n",
    "    return [0 for i in range(n)]\n",
    "\n",
    "def nones(n):\n",
    "    return [None for i in range(n)]\n",
    "\n",
    "def sequence(l, u):\n",
    "    return [i for i in range(l, u+l)]\n",
    "\n",
    "def check(husband, wife):\n",
    "    for i, m in enumerate(husband):\n",
    "        if wife[m] == i:\n",
    "            print('Match')\n",
    "        else:\n",
    "            print('Error!')\n",
    "\n",
    "def inverse_women(women, n):\n",
    "    inv_women = []\n",
    "    for woman in women:\n",
    "        inverse = zeros(n)\n",
    "        for i in range(0, n):\n",
    "            inverse[woman[i]] = i\n",
    "\n",
    "        inv_women.append(inverse)\n",
    "    return inv_women"
   ]
  },
  {
   "cell_type": "code",
   "execution_count": 4,
   "id": "9cfbfbd0",
   "metadata": {},
   "outputs": [],
   "source": [
    "def stable_marriage(case):\n",
    "    women = case['women']\n",
    "    men = case['men']\n",
    "    n = case['n_marriages']\n",
    "    \n",
    "    inv_women = inverse_women(case['women'], n)\n",
    "    \n",
    "    wife = nones(n)\n",
    "    husband = nones(n)\n",
    "    freeman = sequence(0, n)\n",
    "\n",
    "    while len(freeman) != 0:\n",
    "#         print(f'freeman={freeman}')\n",
    "\n",
    "        m = freeman[0]    \n",
    "\n",
    "        man = men[m]\n",
    "\n",
    "#         print(f'm={m}')\n",
    "#         print(f'man={man}')\n",
    "\n",
    "        for w in man:\n",
    "#             print(f'w={w}')\n",
    "            m_ = husband[w]\n",
    "#             print(f'm_={m_}')\n",
    "            if m_ == None:\n",
    "                # engage m w\n",
    "                husband[w] = m\n",
    "                wife[m] = w\n",
    "                freeman.pop(0)\n",
    "#                 print(f'- engages m{m} w{w}')\n",
    "                break\n",
    "            else:\n",
    "#                 print(f'woman {w} preference: m{m}={inv_women[w][m]} and m_{m_}={inv_women[w][m_]}')\n",
    "                if inv_women[w][m] < inv_women[w][m_]:\n",
    "                    # engage m w\n",
    "                    husband[w] = m\n",
    "                    wife[m] = w\n",
    "                    freeman.pop(0)\n",
    "#                     print(f'+ engages m{m} w{w}')\n",
    "\n",
    "                    # disengage m_ w\n",
    "                    wife[m_] = None\n",
    "                    freeman.append(m_)\n",
    "#                     print(f'--- m_{m_} becomes available')\n",
    "\n",
    "                    break\n",
    "\n",
    "#             print('\\n')\n",
    "#         print('\\n'*2)\n",
    "#         print('-'*10)\n",
    "\n",
    "\n",
    "#     print(f'husband={husband}')\n",
    "#     print(f'wife={wife}')\n",
    "\n",
    "#     check(husband, wife)\n",
    "#     print('Engagements:')\n",
    "#     for w, m in enumerate(husband):\n",
    "#         print(f'woman {w + 1} is married to man {m + 1}')\n",
    "\n",
    "#     print('\\n')\n",
    "    for m, w in enumerate(wife):\n",
    "#         print(f'man {m + 1} is married to woman {w + 1}')\n",
    "        print(f'{m + 1} {w + 1}')"
   ]
  },
  {
   "cell_type": "markdown",
   "id": "c8b0eb06",
   "metadata": {},
   "source": [
    "## Test Case"
   ]
  },
  {
   "cell_type": "code",
   "execution_count": 5,
   "id": "bae5e91b",
   "metadata": {},
   "outputs": [
    {
     "name": "stdout",
     "output_type": "stream",
     "text": [
      "1 3\n",
      "2 2\n",
      "3 1\n",
      "4 4\n",
      "1 4\n",
      "2 5\n",
      "3 1\n",
      "4 3\n",
      "5 7\n",
      "6 6\n",
      "7 2\n"
     ]
    }
   ],
   "source": [
    "for case in test_cases:\n",
    "    stable_marriage(case)"
   ]
  },
  {
   "cell_type": "code",
   "execution_count": null,
   "id": "f03a99dc",
   "metadata": {},
   "outputs": [],
   "source": []
  }
 ],
 "metadata": {
  "kernelspec": {
   "display_name": "Python 3",
   "language": "python",
   "name": "python3"
  },
  "language_info": {
   "codemirror_mode": {
    "name": "ipython",
    "version": 3
   },
   "file_extension": ".py",
   "mimetype": "text/x-python",
   "name": "python",
   "nbconvert_exporter": "python",
   "pygments_lexer": "ipython3",
   "version": "3.9.2"
  }
 },
 "nbformat": 4,
 "nbformat_minor": 5
}
